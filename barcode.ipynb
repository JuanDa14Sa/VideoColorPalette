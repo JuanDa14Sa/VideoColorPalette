{
 "cells": [
  {
   "cell_type": "code",
   "execution_count": 57,
   "metadata": {},
   "outputs": [
    {
     "ename": "ModuleNotFoundError",
     "evalue": "No module named 'Image'",
     "output_type": "error",
     "traceback": [
      "\u001b[1;31m---------------------------------------------------------------------------\u001b[0m",
      "\u001b[1;31mModuleNotFoundError\u001b[0m                       Traceback (most recent call last)",
      "Cell \u001b[1;32mIn[57], line 2\u001b[0m\n\u001b[0;32m      1\u001b[0m \u001b[39mfrom\u001b[39;00m \u001b[39mPIL\u001b[39;00m \u001b[39mimport\u001b[39;00m Image \n\u001b[1;32m----> 2\u001b[0m \u001b[39mimport\u001b[39;00m \u001b[39mImage\u001b[39;00m \n\u001b[0;32m      3\u001b[0m \u001b[39mimport\u001b[39;00m \u001b[39mnumpy\u001b[39;00m \u001b[39mas\u001b[39;00m \u001b[39mnp\u001b[39;00m\n\u001b[0;32m      4\u001b[0m \u001b[39mimport\u001b[39;00m \u001b[39mcv2\u001b[39;00m\n",
      "\u001b[1;31mModuleNotFoundError\u001b[0m: No module named 'Image'"
     ]
    }
   ],
   "source": [
    "from PIL import Image \n",
    "import numpy as np\n",
    "import cv2\n",
    "import os\n",
    "from tqdm import tqdm"
   ]
  },
  {
   "cell_type": "code",
   "execution_count": 47,
   "metadata": {},
   "outputs": [],
   "source": [
    "def get_color(image):\n",
    "    img = image.copy()\n",
    "    img = img.convert(\"RGB\")\n",
    "    img = img.resize((1, 1), resample=0)\n",
    "    dominant_color = img.getpixel((0,0))\n",
    "    return dominant_color\n",
    " \n",
    "def clean_folder(folder_name):\n",
    "    for file in os.listdir(folder_name):\n",
    "        os.remove(folder_name+ '/' + file)  \n",
    "        \n",
    "def create_folder(folder_name):\n",
    "    if not os.path.exists(folder_name):\n",
    "        os.makedirs(folder_name)\n",
    "    else: \n",
    "        clean_folder(folder_name)    "
   ]
  },
  {
   "cell_type": "code",
   "execution_count": 58,
   "metadata": {},
   "outputs": [],
   "source": [
    "def generate_barcode(video_name, folder_name):\n",
    "  vidcap = cv2.VideoCapture(video_name)\n",
    "  success,_ = vidcap.read() \n",
    "  frames = vidcap.get(cv2.CAP_PROP_FRAME_COUNT) \n",
    "  create_folder(folder_name)  \n",
    "\n",
    "  for frame_count in tqdm(range(int(frames))):\n",
    "    success, image = vidcap.read()\n",
    "    if success == False:\n",
    "      break\n",
    "    if frame_count%100 == 0:    # save frame as JPEG file\n",
    "      frame_filename = f\"output_frames/frame_{frame_count}.jpeg\"\n",
    "      cv2.imwrite(frame_filename, image)     # save frame as JPEG file      \n",
    "      #print('Read a new frame: ', success)"
   ]
  },
  {
   "cell_type": "code",
   "execution_count": 59,
   "metadata": {},
   "outputs": [
    {
     "name": "stderr",
     "output_type": "stream",
     "text": [
      "100%|█████████▉| 8228/8229 [00:04<00:00, 1756.26it/s]\n"
     ]
    }
   ],
   "source": [
    "generate_barcode('videoplayback.mp4', 'output_frames')      "
   ]
  },
  {
   "cell_type": "code",
   "execution_count": 71,
   "metadata": {},
   "outputs": [],
   "source": [
    "def generate_barcode(folder_name):\n",
    "    number_of_frames = len(os.listdir(folder_name))\n",
    "    im = Image.new('RGB', (number_of_frames*10, 1000))\n",
    "\n",
    "    for i, file in enumerate(os.listdir(folder_name)):\n",
    "        path = f'{folder_name}/{file}'      \n",
    "        image = Image.open(f'{folder_name}/{file}', 'r')\n",
    "        color = get_color(image)*10*1000\n",
    "        color = np.reshape(color,(1000,10,3))\n",
    "        im.paste(Image.fromarray(color.astype('uint8'), 'RGB'), (i*10,0))\n",
    "    im.save('output.png')\n"
   ]
  },
  {
   "cell_type": "code",
   "execution_count": 72,
   "metadata": {},
   "outputs": [
    {
     "ename": "UnidentifiedImageError",
     "evalue": "cannot identify image file 'output_frames/frame_0.jpeg'",
     "output_type": "error",
     "traceback": [
      "\u001b[1;31m---------------------------------------------------------------------------\u001b[0m",
      "\u001b[1;31mUnidentifiedImageError\u001b[0m                    Traceback (most recent call last)",
      "Cell \u001b[1;32mIn[72], line 1\u001b[0m\n\u001b[1;32m----> 1\u001b[0m generate_barcode(\u001b[39m'\u001b[39;49m\u001b[39moutput_frames\u001b[39;49m\u001b[39m'\u001b[39;49m)\n",
      "Cell \u001b[1;32mIn[71], line 7\u001b[0m, in \u001b[0;36mgenerate_barcode\u001b[1;34m(folder_name)\u001b[0m\n\u001b[0;32m      5\u001b[0m \u001b[39mfor\u001b[39;00m i, file \u001b[39min\u001b[39;00m \u001b[39menumerate\u001b[39m(os\u001b[39m.\u001b[39mlistdir(folder_name)):\n\u001b[0;32m      6\u001b[0m     path \u001b[39m=\u001b[39m \u001b[39mf\u001b[39m\u001b[39m'\u001b[39m\u001b[39m{\u001b[39;00mfolder_name\u001b[39m}\u001b[39;00m\u001b[39m/\u001b[39m\u001b[39m{\u001b[39;00mfile\u001b[39m}\u001b[39;00m\u001b[39m'\u001b[39m      \n\u001b[1;32m----> 7\u001b[0m     image \u001b[39m=\u001b[39m Image\u001b[39m.\u001b[39;49mopen(\u001b[39mf\u001b[39;49m\u001b[39m'\u001b[39;49m\u001b[39m{\u001b[39;49;00mfolder_name\u001b[39m}\u001b[39;49;00m\u001b[39m/\u001b[39;49m\u001b[39m{\u001b[39;49;00mfile\u001b[39m}\u001b[39;49;00m\u001b[39m'\u001b[39;49m, \u001b[39m'\u001b[39;49m\u001b[39mr\u001b[39;49m\u001b[39m'\u001b[39;49m)\n\u001b[0;32m      8\u001b[0m     color \u001b[39m=\u001b[39m get_color(image)\u001b[39m*\u001b[39m\u001b[39m10\u001b[39m\u001b[39m*\u001b[39m\u001b[39m1000\u001b[39m\n\u001b[0;32m      9\u001b[0m     color \u001b[39m=\u001b[39m np\u001b[39m.\u001b[39mreshape(color,(\u001b[39m1000\u001b[39m,\u001b[39m10\u001b[39m,\u001b[39m3\u001b[39m))\n",
      "File \u001b[1;32mc:\\Users\\cozie\\Documents\\Learning\\Barcode of a movie\\venv\\lib\\site-packages\\PIL\\Image.py:3298\u001b[0m, in \u001b[0;36mopen\u001b[1;34m(fp, mode, formats)\u001b[0m\n",
      "\u001b[1;31mUnidentifiedImageError\u001b[0m: cannot identify image file 'output_frames/frame_0.jpeg'"
     ]
    }
   ],
   "source": [
    "generate_barcode('output_frames')"
   ]
  },
  {
   "cell_type": "code",
   "execution_count": 70,
   "metadata": {},
   "outputs": [
    {
     "ename": "UnidentifiedImageError",
     "evalue": "cannot identify image file 'output_frames/frame_0.jpeg'",
     "output_type": "error",
     "traceback": [
      "\u001b[1;31m---------------------------------------------------------------------------\u001b[0m",
      "\u001b[1;31mUnidentifiedImageError\u001b[0m                    Traceback (most recent call last)",
      "Cell \u001b[1;32mIn[70], line 1\u001b[0m\n\u001b[1;32m----> 1\u001b[0m Image\u001b[39m.\u001b[39;49mopen(\u001b[39mr\u001b[39;49m\u001b[39m'\u001b[39;49m\u001b[39moutput_frames/frame_0.jpeg\u001b[39;49m\u001b[39m'\u001b[39;49m)         \n",
      "File \u001b[1;32mc:\\Users\\cozie\\Documents\\Learning\\Barcode of a movie\\venv\\lib\\site-packages\\PIL\\Image.py:3298\u001b[0m, in \u001b[0;36mopen\u001b[1;34m(fp, mode, formats)\u001b[0m\n",
      "\u001b[1;31mUnidentifiedImageError\u001b[0m: cannot identify image file 'output_frames/frame_0.jpeg'"
     ]
    }
   ],
   "source": [
    "Image.open(r'output_frames/frame_0.jpeg')         "
   ]
  },
  {
   "cell_type": "code",
   "execution_count": null,
   "metadata": {},
   "outputs": [],
   "source": []
  }
 ],
 "metadata": {
  "kernelspec": {
   "display_name": "venv",
   "language": "python",
   "name": "python3"
  },
  "language_info": {
   "codemirror_mode": {
    "name": "ipython",
    "version": 3
   },
   "file_extension": ".py",
   "mimetype": "text/x-python",
   "name": "python",
   "nbconvert_exporter": "python",
   "pygments_lexer": "ipython3",
   "version": "3.9.13"
  },
  "orig_nbformat": 4
 },
 "nbformat": 4,
 "nbformat_minor": 2
}
